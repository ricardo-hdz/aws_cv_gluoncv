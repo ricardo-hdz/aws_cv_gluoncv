{
 "cells": [
  {
   "cell_type": "markdown",
   "metadata": {
    "deletable": false,
    "editable": false,
    "nbgrader": {
     "cell_type": "markdown",
     "checksum": "9f51cae54f23640f131a33886c2b1fad",
     "grade": false,
     "grade_id": "intro",
     "locked": true,
     "schema_version": 3,
     "solution": false
    }
   },
   "source": [
    "# Graded Assessment\n",
    "\n",
    "In this assessment you will write a full end-to-end training process using gluon and mxnet. We will train the LeNet-5 classifier network on the MNIST dataset. The network will be defined for you but you have to fill in code to prepare the dataset, train the network, and evaluate it's performance on a held out dataset."
   ]
  },
  {
   "cell_type": "code",
   "execution_count": 1,
   "metadata": {},
   "outputs": [],
   "source": [
    "from pathlib import Path\n",
    "from mxnet import gluon, metric, autograd, init, nd\n",
    "import os"
   ]
  },
  {
   "cell_type": "code",
   "execution_count": 2,
   "metadata": {},
   "outputs": [],
   "source": [
    "M5_DATA = Path(os.getenv('DATA_DIR', '../../data'), 'module_5')\n",
    "M5_IMAGES = Path(M5_DATA, 'images')"
   ]
  },
  {
   "cell_type": "markdown",
   "metadata": {},
   "source": [
    "---\n",
    "## Question 1\n",
    "\n",
    "### Prepare and the data and construct the dataloader\n",
    "\n",
    "* First, get the MNIST dataset from `gluon.data.vision.datasets`. Use\n",
    "* Don't forget the ToTensor and normalize Transformations. Use `0.13` and `0.31` as the mean and standard deviation respectively\n",
    "* Construct the dataloader with the batch size provide. Ensure that the train_dataloader is shuffled.\n",
    "\n",
    "Note: Please specify `root=M5_IMAGES` for your dataset storage location."
   ]
  },
  {
   "cell_type": "code",
   "execution_count": 3,
   "metadata": {
    "deletable": false,
    "nbgrader": {
     "cell_type": "code",
     "checksum": "76feab6f5d6bfbaea6fb22f1123193db",
     "grade": false,
     "grade_id": "dataloader",
     "locked": false,
     "schema_version": 3,
     "solution": true,
     "task": false
    }
   },
   "outputs": [],
   "source": [
    "import os\n",
    "from pathlib import Path\n",
    "\n",
    "def get_mnist_data(batch=128):\n",
    "    \"\"\"\n",
    "    Should construct a dataloader with the MNIST Dataset with the necessary transforms applied.\n",
    "    \n",
    "    :param batch: batch size for the DataLoader.\n",
    "    :type batch: int\n",
    "    \n",
    "    :return: a tuple of the training and validation DataLoaders\n",
    "    :rtype: (gluon.data.DataLoader, gluon.data.DataLoader)\n",
    "    \"\"\"\n",
    "    train_data = gluon.data.vision.datasets.MNIST(root=M5_IMAGES, train=True)\n",
    "    val_data = gluon.data.vision.datasets.MNIST(root=M5_IMAGES, train=False)\n",
    "    \n",
    "    transforms = gluon.data.vision.transforms\n",
    "    \n",
    "    transform_fn = transforms.Compose([transforms.ToTensor(),\n",
    "                                  transforms.Normalize(0.13, 0.31)])\n",
    "    \n",
    "    train_dataloader = gluon.data.DataLoader(dataset=train_data.transform_first(transform_fn),\n",
    "                                             batch_size=batch,\n",
    "                                            shuffle=True)\n",
    "    \n",
    "    validation_dataloader = gluon.data.DataLoader(dataset=val_data.transform_first(transform_fn),\n",
    "                                             batch_size=batch,\n",
    "                                            shuffle=False)\n",
    "    \n",
    "    return train_dataloader, validation_dataloader"
   ]
  },
  {
   "cell_type": "code",
   "execution_count": 4,
   "metadata": {
    "deletable": false,
    "editable": false,
    "nbgrader": {
     "cell_type": "code",
     "checksum": "c387d345f38422234a55e70a4c5be8a5",
     "grade": true,
     "grade_id": "cell-3ec320323b376193",
     "locked": true,
     "points": 3,
     "schema_version": 3,
     "solution": false,
     "task": false
    }
   },
   "outputs": [],
   "source": [
    "t, v = get_mnist_data()\n",
    "assert isinstance(t, gluon.data.DataLoader)\n",
    "assert isinstance(v, gluon.data.DataLoader)\n",
    "\n",
    "d, l = next(iter(t))\n",
    "assert d.shape == (128, 1, 28, 28) #check Channel First and Batch Size\n",
    "assert l.shape == (128,)\n",
    "\n",
    "assert nd.max(d).asscalar() <= 2.9 # check for normalization\n",
    "assert nd.min(d).asscalar() >= -0.5 # check for normalization"
   ]
  },
  {
   "cell_type": "markdown",
   "metadata": {},
   "source": [
    "---\n",
    "\n",
    "## Question 2\n",
    "\n",
    "### Write the training loop\n",
    "\n",
    "* Create the loss function. This should be a loss function suitable for multi-class classification.\n",
    "* Create the metric accumulator. This should the compute and store the accuracy of the model during training\n",
    "* Create the trainer with the `adam` optimizer and learning rate of `0.002`\n",
    "* Write the training loop"
   ]
  },
  {
   "cell_type": "code",
   "execution_count": 18,
   "metadata": {
    "deletable": false,
    "nbgrader": {
     "cell_type": "code",
     "checksum": "8acde078dd45fdcdf1024bf06f2d463a",
     "grade": false,
     "grade_id": "train",
     "locked": false,
     "schema_version": 3,
     "solution": true
    }
   },
   "outputs": [],
   "source": [
    "def train(network, training_dataloader, batch_size, epochs):\n",
    "    \"\"\"\n",
    "    Should take an initialized network and train that network using data from the data loader.\n",
    "    \n",
    "    :param network: initialized gluon network to be trained\n",
    "    :type network: gluon.Block\n",
    "    \n",
    "    :param training_dataloader: the training DataLoader provides batches for data for every iteration\n",
    "    :type training_dataloader: gluon.data.DataLoader\n",
    "    \n",
    "    :param batch_size: batch size for the DataLoader.\n",
    "    :type batch_size: int\n",
    "    \n",
    "    :param epochs: number of epochs to train the DataLoader\n",
    "    :type epochs: int\n",
    "    \n",
    "    :return: tuple of trained network and the final training accuracy\n",
    "    :rtype: (gluon.Block, float)\n",
    "    \"\"\"\n",
    "    \n",
    "    softmax = gluon.loss.SoftmaxCrossEntropyLoss()\n",
    "    training_accuracy = metric.Accuracy()\n",
    "    \n",
    "    trainer = gluon.Trainer(network.collect_params(),\n",
    "                            optimizer='adam', optimizer_params={'learning_rate':0.002})\n",
    "    \n",
    "    for epoch in range(epochs):\n",
    "        train_loss = 0.0\n",
    "\n",
    "        for data, label in training_dataloader:\n",
    "            with autograd.record():\n",
    "                output = network(data)\n",
    "                loss = softmax(output, label)\n",
    "                \n",
    "            loss.backward()\n",
    "            \n",
    "            trainer.step(batch_size)\n",
    "            \n",
    "            train_loss += loss.mean().asscalar()\n",
    "            training_accuracy.update(label, output)\n",
    "            \n",
    "        print('Epoch[%d] Loss: %.3f Acc %.3f',\n",
    "             epoch,\n",
    "              train_loss/len(training_dataloader),\n",
    "              training_accuracy.get()[1])\n",
    "\n",
    "    return network, training_accuracy.get()[1]"
   ]
  },
  {
   "cell_type": "markdown",
   "metadata": {},
   "source": [
    "Let's define and initialize a network to test the train function"
   ]
  },
  {
   "cell_type": "code",
   "execution_count": 19,
   "metadata": {
    "deletable": false,
    "editable": false,
    "nbgrader": {
     "cell_type": "code",
     "checksum": "8abd21a4f3135d1dbcc9be72805ef5cb",
     "grade": false,
     "grade_id": "cell-5dc7b1444f1d3c8d",
     "locked": true,
     "schema_version": 3,
     "solution": false,
     "task": false
    }
   },
   "outputs": [],
   "source": [
    "net = gluon.nn.Sequential()\n",
    "net.add(gluon.nn.Conv2D(channels=6, kernel_size=5, activation='relu'),\n",
    "        gluon.nn.MaxPool2D(pool_size=2, strides=2),\n",
    "        gluon.nn.Conv2D(channels=16, kernel_size=3, activation='relu'),\n",
    "        gluon.nn.MaxPool2D(pool_size=2, strides=2),\n",
    "        gluon.nn.Flatten(),\n",
    "        gluon.nn.Dense(120, activation=\"relu\"),\n",
    "        gluon.nn.Dense(84, activation=\"relu\"),\n",
    "        gluon.nn.Dense(10))\n",
    "net.initialize(init=init.Xavier())"
   ]
  },
  {
   "cell_type": "code",
   "execution_count": 20,
   "metadata": {
    "deletable": false,
    "editable": false,
    "nbgrader": {
     "cell_type": "code",
     "checksum": "2c656d1560729cafad572b40321feb40",
     "grade": true,
     "grade_id": "cell-9d116b0901b24fcc",
     "locked": true,
     "points": 5,
     "schema_version": 3,
     "solution": false,
     "task": false
    }
   },
   "outputs": [
    {
     "name": "stdout",
     "output_type": "stream",
     "text": [
      "Epoch[%d] Loss: %.3f Acc %.3f 0 0.21463440837406084 0.9332666666666667\n",
      "Epoch[%d] Loss: %.3f Acc %.3f 1 0.06485772433418677 0.9564666666666667\n",
      "Epoch[%d] Loss: %.3f Acc %.3f 2 0.0482370805641664 0.9658888888888889\n",
      "Epoch[%d] Loss: %.3f Acc %.3f 3 0.03865339931672507 0.9714625\n",
      "Epoch[%d] Loss: %.3f Acc %.3f 4 0.03134737699069202 0.97514\n"
     ]
    },
    {
     "ename": "TypeError",
     "evalue": "'>=' not supported between instances of 'Accuracy' and 'float'",
     "output_type": "error",
     "traceback": [
      "\u001b[0;31m---------------------------------------------------------------------------\u001b[0m",
      "\u001b[0;31mTypeError\u001b[0m                                 Traceback (most recent call last)",
      "\u001b[0;32m<ipython-input-20-5e29885caea6>\u001b[0m in \u001b[0;36m<module>\u001b[0;34m\u001b[0m\n\u001b[1;32m      1\u001b[0m \u001b[0mn\u001b[0m\u001b[0;34m,\u001b[0m \u001b[0mta\u001b[0m \u001b[0;34m=\u001b[0m \u001b[0mtrain\u001b[0m\u001b[0;34m(\u001b[0m\u001b[0mnet\u001b[0m\u001b[0;34m,\u001b[0m \u001b[0mt\u001b[0m\u001b[0;34m,\u001b[0m \u001b[0;36m128\u001b[0m\u001b[0;34m,\u001b[0m \u001b[0;36m5\u001b[0m\u001b[0;34m)\u001b[0m\u001b[0;34m\u001b[0m\u001b[0;34m\u001b[0m\u001b[0m\n\u001b[0;32m----> 2\u001b[0;31m \u001b[0;32massert\u001b[0m \u001b[0mta\u001b[0m \u001b[0;34m>=\u001b[0m \u001b[0;36m.95\u001b[0m\u001b[0;34m\u001b[0m\u001b[0;34m\u001b[0m\u001b[0m\n\u001b[0m\u001b[1;32m      3\u001b[0m \u001b[0;34m\u001b[0m\u001b[0m\n\u001b[1;32m      4\u001b[0m \u001b[0md\u001b[0m\u001b[0;34m,\u001b[0m \u001b[0ml\u001b[0m \u001b[0;34m=\u001b[0m \u001b[0mnext\u001b[0m\u001b[0;34m(\u001b[0m\u001b[0miter\u001b[0m\u001b[0;34m(\u001b[0m\u001b[0mv\u001b[0m\u001b[0;34m)\u001b[0m\u001b[0;34m)\u001b[0m\u001b[0;34m\u001b[0m\u001b[0;34m\u001b[0m\u001b[0m\n\u001b[1;32m      5\u001b[0m \u001b[0mp\u001b[0m \u001b[0;34m=\u001b[0m \u001b[0;34m(\u001b[0m\u001b[0mn\u001b[0m\u001b[0;34m(\u001b[0m\u001b[0md\u001b[0m\u001b[0;34m)\u001b[0m\u001b[0;34m.\u001b[0m\u001b[0margmax\u001b[0m\u001b[0;34m(\u001b[0m\u001b[0maxis\u001b[0m\u001b[0;34m=\u001b[0m\u001b[0;36m1\u001b[0m\u001b[0;34m)\u001b[0m\u001b[0;34m)\u001b[0m\u001b[0;34m\u001b[0m\u001b[0;34m\u001b[0m\u001b[0m\n",
      "\u001b[0;31mTypeError\u001b[0m: '>=' not supported between instances of 'Accuracy' and 'float'"
     ]
    }
   ],
   "source": [
    "n, ta = train(net, t, 128, 5)\n",
    "assert ta >= .95\n",
    "\n",
    "d, l = next(iter(v))\n",
    "p = (n(d).argmax(axis=1))\n",
    "assert (p.asnumpy() == l.asnumpy()).sum()/128.0 > .95"
   ]
  },
  {
   "cell_type": "markdown",
   "metadata": {},
   "source": [
    "---\n",
    "## Question 3\n",
    "\n",
    "### Write the validation loop\n",
    "\n",
    "* Create the metric accumulator. This should the compute and store the accuracy of the model on the validation set\n",
    "* Write the validation loop"
   ]
  },
  {
   "cell_type": "code",
   "execution_count": 31,
   "metadata": {
    "deletable": false,
    "nbgrader": {
     "cell_type": "code",
     "checksum": "fc0114df7022ddbc77032c1906e5152b",
     "grade": false,
     "grade_id": "sum_of_squares_application",
     "locked": false,
     "schema_version": 3,
     "solution": true,
     "task": false
    }
   },
   "outputs": [],
   "source": [
    "def validate(network, validation_dataloader):\n",
    "    \"\"\"\n",
    "    Should compute the accuracy of the network on the validation set.\n",
    "    \n",
    "    :param network: initialized gluon network to be trained\n",
    "    :type network: gluon.Block\n",
    "    \n",
    "    :param validation_dataloader: the training DataLoader provides batches for data for every iteration\n",
    "    :type validation_dataloader: gluon.data.DataLoader\n",
    "    \n",
    "    :return: validation accuracy\n",
    "    :rtype: float\n",
    "    \"\"\"\n",
    "    validation_accuracy = metric.Accuracy()\n",
    "    \n",
    "    for data, label in validation_dataloader:\n",
    "        output = network(data)\n",
    "        validation_accuracy.update(label, output)\n",
    "        \n",
    "    print('Validation accuracy %.3f', validation_accuracy.get()[1]) \n",
    "    \n",
    "    return validation_accuracy.get()[1]"
   ]
  },
  {
   "cell_type": "code",
   "execution_count": 32,
   "metadata": {
    "deletable": false,
    "editable": false,
    "nbgrader": {
     "cell_type": "code",
     "checksum": "19f3df97df6a26277d48eb1baf703a45",
     "grade": true,
     "grade_id": "cell-5a2130f381810258",
     "locked": true,
     "points": 2,
     "schema_version": 3,
     "solution": false,
     "task": false
    }
   },
   "outputs": [
    {
     "name": "stdout",
     "output_type": "stream",
     "text": [
      "Validation accuracy %.3f 0.9826\n"
     ]
    }
   ],
   "source": [
    "assert validate(n, v) > .95"
   ]
  },
  {
   "cell_type": "code",
   "execution_count": null,
   "metadata": {},
   "outputs": [],
   "source": []
  }
 ],
 "metadata": {
  "coursera": {
   "course_slug": "aws-computer-vision-gluoncv",
   "graded_item_id": "41Qtj",
   "launcher_item_id": "Xfrqm"
  },
  "kernelspec": {
   "display_name": "Python 3",
   "language": "python",
   "name": "python3"
  },
  "language_info": {
   "codemirror_mode": {
    "name": "ipython",
    "version": 3
   },
   "file_extension": ".py",
   "mimetype": "text/x-python",
   "name": "python",
   "nbconvert_exporter": "python",
   "pygments_lexer": "ipython3",
   "version": "3.7.3"
  }
 },
 "nbformat": 4,
 "nbformat_minor": 1
}
